{
 "cells": [
  {
   "cell_type": "code",
   "execution_count": 1,
   "id": "55372cfa-5d26-4c29-8b2a-296cc74084e5",
   "metadata": {},
   "outputs": [],
   "source": [
    "import requests\n",
    "\n",
    "class MarketData:\n",
    "    base_url = \"https://marketdata.tradermade.com/api/v1/\"\n",
    "    historical_api = \"historical?\"\n",
    "    live_api = \"live?\"\n",
    "    date_parameter = \"&date=\"\n",
    "    currency_parameter = \"&currency=\"\n",
    "    api_key_parameter = \"&api_key=\"\n",
    "    \n",
    "    def __init__(self, api_key):\n",
    "        shared_parameters = self.api_key_parameter + api_key\n",
    "        self.historical_url = self.base_url + self.historical_api + shared_parameters\n",
    "        self.live_url = self.base_url + self.live_api + shared_parameters\n",
    "\n",
    "    def live_data(self, currency_from, currency_to):\n",
    "        url = self.live_url + self.currency_parameter + currency_from + currency_to\n",
    "        print(url)\n",
    "\n",
    "    def historical_data(self, currency_from, currency_to, date):\n",
    "        url = self.historical_url + self.date_parameter + date + self.currency_parameter + currency_from + currency_to\n",
    "        print(url)\n",
    "\n",
    "    def __del__(self):\n",
    "        self.live_url = \"\"\n",
    "        self.historical_url = \"\""
   ]
  },
  {
   "cell_type": "code",
   "execution_count": null,
   "id": "a14cc69a-6d56-49fe-a1e2-fd0730fcf2aa",
   "metadata": {},
   "outputs": [],
   "source": [
    "\n",
    "from dotenv import load_dotenv\n",
    "import os\n",
    "\n",
    "load_dotenv()\n",
    "api_key = os.getenv('MARKETDATA_API_KEY', '')\n",
    "metaData = MarketData(api_key)\n",
    "metaData.historical_data(\"XAU\", \"THB\", \"2023-10-23\")\n",
    "metaData.live_data(\"XAU\", \"THB\")"
   ]
  },
  {
   "cell_type": "code",
   "execution_count": null,
   "id": "9f127b17-8c28-4162-97c9-55c6aebdad57",
   "metadata": {},
   "outputs": [],
   "source": []
  }
 ],
 "metadata": {
  "kernelspec": {
   "display_name": "Python 3 (ipykernel)",
   "language": "python",
   "name": "python3"
  },
  "language_info": {
   "codemirror_mode": {
    "name": "ipython",
    "version": 3
   },
   "file_extension": ".py",
   "mimetype": "text/x-python",
   "name": "python",
   "nbconvert_exporter": "python",
   "pygments_lexer": "ipython3",
   "version": "3.11.4"
  }
 },
 "nbformat": 4,
 "nbformat_minor": 5
}
